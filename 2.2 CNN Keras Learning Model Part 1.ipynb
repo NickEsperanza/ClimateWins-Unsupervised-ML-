{
 "cells": [
  {
   "cell_type": "code",
   "execution_count": 1,
   "id": "0a3937a7-607c-4bf1-a2de-9b28de7b72ff",
   "metadata": {},
   "outputs": [],
   "source": [
    "import pandas as pd\n",
    "import numpy as np\n",
    "import seaborn as sns\n",
    "import os\n",
    "import operator\n",
    "import matplotlib.pyplot as plt\n",
    "import tensorflow as tf\n",
    "from tensorflow import keras\n",
    "from numpy import unique\n",
    "from numpy import reshape\n",
    "from keras.models import Sequential\n",
    "from keras.layers import Conv1D, Conv2D, Dense, BatchNormalization, Flatten, MaxPooling1D, Dropout\n",
    "from keras.layers import LSTM\n",
    "from keras.utils import to_categorical\n",
    "from sklearn.model_selection import train_test_split\n",
    "from sklearn.preprocessing import LabelEncoder\n",
    "\n",
    "import warnings\n",
    "warnings.filterwarnings(\"ignore\")"
   ]
  },
  {
   "cell_type": "code",
   "execution_count": 3,
   "id": "0c113a50-17ec-4e09-814d-c9ba4f9408eb",
   "metadata": {},
   "outputs": [],
   "source": [
    "# Creating path\n",
    "path = r'C:\\Users\\nickr\\OneDrive\\Documents\\Nick Bootcamp\\Machine Learning\\Data Sets'"
   ]
  },
  {
   "cell_type": "code",
   "execution_count": 5,
   "id": "acec43bb-9681-4d50-aa52-2651d2c26cf1",
   "metadata": {},
   "outputs": [],
   "source": [
    "pleasant = pd.read_csv(os.path.join(path, 'Weather_Prediction_Pleasant_Weather.csv'))"
   ]
  },
  {
   "cell_type": "code",
   "execution_count": 7,
   "id": "42d3d079-fb72-4fc2-98b0-a53636021ab9",
   "metadata": {},
   "outputs": [],
   "source": [
    "unscaled = pd.read_csv(os.path.join(path, 'weather_data.csv'))"
   ]
  },
  {
   "cell_type": "code",
   "execution_count": 9,
   "id": "43d3aa26-14cc-48ba-b4b6-0b7770b515c3",
   "metadata": {},
   "outputs": [
    {
     "data": {
      "text/html": [
       "<div>\n",
       "<style scoped>\n",
       "    .dataframe tbody tr th:only-of-type {\n",
       "        vertical-align: middle;\n",
       "    }\n",
       "\n",
       "    .dataframe tbody tr th {\n",
       "        vertical-align: top;\n",
       "    }\n",
       "\n",
       "    .dataframe thead th {\n",
       "        text-align: right;\n",
       "    }\n",
       "</style>\n",
       "<table border=\"1\" class=\"dataframe\">\n",
       "  <thead>\n",
       "    <tr style=\"text-align: right;\">\n",
       "      <th></th>\n",
       "      <th>DATE</th>\n",
       "      <th>MONTH</th>\n",
       "      <th>BASEL_cloud_cover</th>\n",
       "      <th>BASEL_wind_speed</th>\n",
       "      <th>BASEL_humidity</th>\n",
       "      <th>BASEL_pressure</th>\n",
       "      <th>BASEL_global_radiation</th>\n",
       "      <th>BASEL_precipitation</th>\n",
       "      <th>BASEL_snow_depth</th>\n",
       "      <th>BASEL_sunshine</th>\n",
       "      <th>...</th>\n",
       "      <th>VALENTIA_cloud_cover</th>\n",
       "      <th>VALENTIA_humidity</th>\n",
       "      <th>VALENTIA_pressure</th>\n",
       "      <th>VALENTIA_global_radiation</th>\n",
       "      <th>VALENTIA_precipitation</th>\n",
       "      <th>VALENTIA_snow_depth</th>\n",
       "      <th>VALENTIA_sunshine</th>\n",
       "      <th>VALENTIA_temp_mean</th>\n",
       "      <th>VALENTIA_temp_min</th>\n",
       "      <th>VALENTIA_temp_max</th>\n",
       "    </tr>\n",
       "  </thead>\n",
       "  <tbody>\n",
       "    <tr>\n",
       "      <th>0</th>\n",
       "      <td>19600101</td>\n",
       "      <td>1</td>\n",
       "      <td>7</td>\n",
       "      <td>2.1</td>\n",
       "      <td>0.85</td>\n",
       "      <td>1.018</td>\n",
       "      <td>0.32</td>\n",
       "      <td>0.09</td>\n",
       "      <td>0</td>\n",
       "      <td>0.7</td>\n",
       "      <td>...</td>\n",
       "      <td>5</td>\n",
       "      <td>0.88</td>\n",
       "      <td>1.0003</td>\n",
       "      <td>0.45</td>\n",
       "      <td>0.34</td>\n",
       "      <td>0</td>\n",
       "      <td>4.7</td>\n",
       "      <td>8.5</td>\n",
       "      <td>6.0</td>\n",
       "      <td>10.9</td>\n",
       "    </tr>\n",
       "    <tr>\n",
       "      <th>1</th>\n",
       "      <td>19600102</td>\n",
       "      <td>1</td>\n",
       "      <td>6</td>\n",
       "      <td>2.1</td>\n",
       "      <td>0.84</td>\n",
       "      <td>1.018</td>\n",
       "      <td>0.36</td>\n",
       "      <td>1.05</td>\n",
       "      <td>0</td>\n",
       "      <td>1.1</td>\n",
       "      <td>...</td>\n",
       "      <td>7</td>\n",
       "      <td>0.91</td>\n",
       "      <td>1.0007</td>\n",
       "      <td>0.25</td>\n",
       "      <td>0.84</td>\n",
       "      <td>0</td>\n",
       "      <td>0.7</td>\n",
       "      <td>8.9</td>\n",
       "      <td>5.6</td>\n",
       "      <td>12.1</td>\n",
       "    </tr>\n",
       "    <tr>\n",
       "      <th>2</th>\n",
       "      <td>19600103</td>\n",
       "      <td>1</td>\n",
       "      <td>8</td>\n",
       "      <td>2.1</td>\n",
       "      <td>0.90</td>\n",
       "      <td>1.018</td>\n",
       "      <td>0.18</td>\n",
       "      <td>0.30</td>\n",
       "      <td>0</td>\n",
       "      <td>0.0</td>\n",
       "      <td>...</td>\n",
       "      <td>7</td>\n",
       "      <td>0.91</td>\n",
       "      <td>1.0096</td>\n",
       "      <td>0.17</td>\n",
       "      <td>0.08</td>\n",
       "      <td>0</td>\n",
       "      <td>0.1</td>\n",
       "      <td>10.5</td>\n",
       "      <td>8.1</td>\n",
       "      <td>12.9</td>\n",
       "    </tr>\n",
       "    <tr>\n",
       "      <th>3</th>\n",
       "      <td>19600104</td>\n",
       "      <td>1</td>\n",
       "      <td>3</td>\n",
       "      <td>2.1</td>\n",
       "      <td>0.92</td>\n",
       "      <td>1.018</td>\n",
       "      <td>0.58</td>\n",
       "      <td>0.00</td>\n",
       "      <td>0</td>\n",
       "      <td>4.1</td>\n",
       "      <td>...</td>\n",
       "      <td>7</td>\n",
       "      <td>0.86</td>\n",
       "      <td>1.0184</td>\n",
       "      <td>0.13</td>\n",
       "      <td>0.98</td>\n",
       "      <td>0</td>\n",
       "      <td>0.0</td>\n",
       "      <td>7.4</td>\n",
       "      <td>7.3</td>\n",
       "      <td>10.6</td>\n",
       "    </tr>\n",
       "    <tr>\n",
       "      <th>4</th>\n",
       "      <td>19600105</td>\n",
       "      <td>1</td>\n",
       "      <td>6</td>\n",
       "      <td>2.1</td>\n",
       "      <td>0.95</td>\n",
       "      <td>1.018</td>\n",
       "      <td>0.65</td>\n",
       "      <td>0.14</td>\n",
       "      <td>0</td>\n",
       "      <td>5.4</td>\n",
       "      <td>...</td>\n",
       "      <td>3</td>\n",
       "      <td>0.80</td>\n",
       "      <td>1.0328</td>\n",
       "      <td>0.46</td>\n",
       "      <td>0.00</td>\n",
       "      <td>0</td>\n",
       "      <td>5.7</td>\n",
       "      <td>5.7</td>\n",
       "      <td>3.0</td>\n",
       "      <td>8.4</td>\n",
       "    </tr>\n",
       "  </tbody>\n",
       "</table>\n",
       "<p>5 rows × 170 columns</p>\n",
       "</div>"
      ],
      "text/plain": [
       "       DATE  MONTH  BASEL_cloud_cover  BASEL_wind_speed  BASEL_humidity  \\\n",
       "0  19600101      1                  7               2.1            0.85   \n",
       "1  19600102      1                  6               2.1            0.84   \n",
       "2  19600103      1                  8               2.1            0.90   \n",
       "3  19600104      1                  3               2.1            0.92   \n",
       "4  19600105      1                  6               2.1            0.95   \n",
       "\n",
       "   BASEL_pressure  BASEL_global_radiation  BASEL_precipitation  \\\n",
       "0           1.018                    0.32                 0.09   \n",
       "1           1.018                    0.36                 1.05   \n",
       "2           1.018                    0.18                 0.30   \n",
       "3           1.018                    0.58                 0.00   \n",
       "4           1.018                    0.65                 0.14   \n",
       "\n",
       "   BASEL_snow_depth  BASEL_sunshine  ...  VALENTIA_cloud_cover  \\\n",
       "0                 0             0.7  ...                     5   \n",
       "1                 0             1.1  ...                     7   \n",
       "2                 0             0.0  ...                     7   \n",
       "3                 0             4.1  ...                     7   \n",
       "4                 0             5.4  ...                     3   \n",
       "\n",
       "   VALENTIA_humidity  VALENTIA_pressure  VALENTIA_global_radiation  \\\n",
       "0               0.88             1.0003                       0.45   \n",
       "1               0.91             1.0007                       0.25   \n",
       "2               0.91             1.0096                       0.17   \n",
       "3               0.86             1.0184                       0.13   \n",
       "4               0.80             1.0328                       0.46   \n",
       "\n",
       "   VALENTIA_precipitation  VALENTIA_snow_depth  VALENTIA_sunshine  \\\n",
       "0                    0.34                    0                4.7   \n",
       "1                    0.84                    0                0.7   \n",
       "2                    0.08                    0                0.1   \n",
       "3                    0.98                    0                0.0   \n",
       "4                    0.00                    0                5.7   \n",
       "\n",
       "   VALENTIA_temp_mean  VALENTIA_temp_min  VALENTIA_temp_max  \n",
       "0                 8.5                6.0               10.9  \n",
       "1                 8.9                5.6               12.1  \n",
       "2                10.5                8.1               12.9  \n",
       "3                 7.4                7.3               10.6  \n",
       "4                 5.7                3.0                8.4  \n",
       "\n",
       "[5 rows x 170 columns]"
      ]
     },
     "execution_count": 9,
     "metadata": {},
     "output_type": "execute_result"
    }
   ],
   "source": [
    "unscaled.head()"
   ]
  },
  {
   "cell_type": "code",
   "execution_count": 11,
   "id": "c0c963f5-3bc1-4510-9583-752a39e2a1a1",
   "metadata": {},
   "outputs": [
    {
     "data": {
      "text/plain": [
       "(22950, 170)"
      ]
     },
     "execution_count": 11,
     "metadata": {},
     "output_type": "execute_result"
    }
   ],
   "source": [
    "unscaled.shape"
   ]
  },
  {
   "cell_type": "code",
   "execution_count": 13,
   "id": "93984cb1-ae40-44de-981c-71339411278a",
   "metadata": {},
   "outputs": [],
   "source": [
    "# Removing columns related to Tours, Gdansk and Rome from the unscaled dataset\n",
    "\n",
    "unscaled = unscaled.drop(['GDANSK_cloud_cover', 'GDANSK_humidity', 'GDANSK_precipitation', 'GDANSK_snow_depth', 'GDANSK_temp_mean', 'GDANSK_temp_min', 'GDANSK_temp_max',\n",
    "                        'ROMA_cloud_cover', 'ROMA_wind_speed', 'ROMA_humidity', 'ROMA_pressure', 'ROMA_sunshine', 'ROMA_temp_mean',\n",
    "                        'TOURS_wind_speed', 'TOURS_humidity', 'TOURS_pressure', 'TOURS_global_radiation', 'TOURS_precipitation', 'TOURS_temp_mean', 'TOURS_temp_min', 'TOURS_temp_max'], axis=1)"
   ]
  },
  {
   "cell_type": "code",
   "execution_count": 15,
   "id": "1bbc3a83-2283-453f-91a0-185b2a41751b",
   "metadata": {},
   "outputs": [],
   "source": [
    "# Cleaning data for remaining weather stations to ensure shape can fit into prediction model\n",
    "\n",
    "# Extract the different observation types\n",
    "\n",
    "observation_types = ['cloud_cover', 'wind_speed', 'humidity', 'pressure',\n",
    "                     'global_radiation', 'precipitation', 'snow_depth', \n",
    "                     'sunshine', 'temp_mean', 'temp_min', 'temp_max']"
   ]
  },
  {
   "cell_type": "code",
   "execution_count": 17,
   "id": "c12dedd9-8a8b-4ba0-9938-9dedd13b556b",
   "metadata": {},
   "outputs": [
    {
     "name": "stdout",
     "output_type": "stream",
     "text": [
      "Number of stations covered by each observation type:\n",
      "cloud_cover: 14 stations\n",
      "wind_speed: 9 stations\n",
      "humidity: 14 stations\n",
      "pressure: 14 stations\n",
      "global_radiation: 15 stations\n",
      "precipitation: 15 stations\n",
      "snow_depth: 6 stations\n",
      "sunshine: 15 stations\n",
      "temp_mean: 15 stations\n",
      "temp_min: 15 stations\n",
      "temp_max: 15 stations\n"
     ]
    }
   ],
   "source": [
    "# Create a dictionary to store the count of stations for each observation type\n",
    "station_counts = {}\n",
    "\n",
    "for obs in observation_types:\n",
    "    # Select columns related to the current observation type\n",
    "    columns = [col for col in unscaled.columns if col.endswith(obs)]\n",
    "    \n",
    "    # Count the number of stations (i.e., the number of columns) for the current observation type\n",
    "    station_counts[obs] = len(columns)\n",
    "\n",
    "# Print the count of stations for each observation type\n",
    "print(\"Number of stations covered by each observation type:\")\n",
    "for obs, count in station_counts.items():\n",
    "    print(f\"{obs}: {count} stations\")"
   ]
  },
  {
   "cell_type": "code",
   "execution_count": 19,
   "id": "bad19dca-e06a-43de-b27c-0dcf4ccabb19",
   "metadata": {},
   "outputs": [
    {
     "data": {
      "text/plain": [
       "Index(['BASEL_wind_speed', 'BASEL_snow_depth', 'DEBILT_wind_speed',\n",
       "       'DUSSELDORF_wind_speed', 'DUSSELDORF_snow_depth', 'HEATHROW_snow_depth',\n",
       "       'KASSEL_wind_speed', 'LJUBLJANA_wind_speed', 'MAASTRICHT_wind_speed',\n",
       "       'MADRID_wind_speed', 'MUNCHENB_snow_depth', 'OSLO_wind_speed',\n",
       "       'OSLO_snow_depth', 'SONNBLICK_wind_speed', 'VALENTIA_snow_depth'],\n",
       "      dtype='object')"
      ]
     },
     "execution_count": 19,
     "metadata": {},
     "output_type": "execute_result"
    }
   ],
   "source": [
    "# Columns Wind Speed and Snow Depth missing multiple entries which will affect model shape\n",
    "\n",
    "# Dropping columns that end with wind_speed and snow_depth from the dataset\n",
    "\n",
    "columns_to_drop = unscaled.filter(regex='(_wind_speed|_snow_depth)$').columns\n",
    "columns_to_drop"
   ]
  },
  {
   "cell_type": "code",
   "execution_count": 21,
   "id": "b4728c96-75ee-48e3-a837-6bcd1bfe468e",
   "metadata": {},
   "outputs": [],
   "source": [
    "unscaled = unscaled.drop(columns=columns_to_drop)"
   ]
  },
  {
   "cell_type": "code",
   "execution_count": 23,
   "id": "87e2a4fa-afce-41bf-bea5-c118806b913f",
   "metadata": {},
   "outputs": [
    {
     "data": {
      "text/plain": [
       "(22950, 134)"
      ]
     },
     "execution_count": 23,
     "metadata": {},
     "output_type": "execute_result"
    }
   ],
   "source": [
    "unscaled.shape"
   ]
  },
  {
   "cell_type": "code",
   "execution_count": 25,
   "id": "63ec65ae-c636-4615-9c8f-42e766e6101a",
   "metadata": {},
   "outputs": [
    {
     "data": {
      "text/plain": [
       "{'BASEL',\n",
       " 'BELGRADE',\n",
       " 'BUDAPEST',\n",
       " 'DEBILT',\n",
       " 'DUSSELDORF',\n",
       " 'HEATHROW',\n",
       " 'KASSEL',\n",
       " 'LJUBLJANA',\n",
       " 'MAASTRICHT',\n",
       " 'MADRID',\n",
       " 'MUNCHENB',\n",
       " 'OSLO',\n",
       " 'SONNBLICK',\n",
       " 'STOCKHOLM',\n",
       " 'VALENTIA'}"
      ]
     },
     "execution_count": 25,
     "metadata": {},
     "output_type": "execute_result"
    }
   ],
   "source": [
    "# Columns cloud cover, humidity, and pressure are missing a single entry (14 stations instead of 15)\n",
    "\n",
    "# Creating list of all unique station names in the dataset\n",
    "\n",
    "all_stations = set([col.split('_')[0] for col in unscaled.columns if '_' in col])\n",
    "all_stations"
   ]
  },
  {
   "cell_type": "code",
   "execution_count": 27,
   "id": "cfa84b6c-ebcd-45cc-b442-e3468ac698bf",
   "metadata": {},
   "outputs": [
    {
     "name": "stdout",
     "output_type": "stream",
     "text": [
      "\n",
      "Stations missing from cloud_cover:\n",
      "KASSEL\n",
      "\n",
      "Stations missing from humidity:\n",
      "STOCKHOLM\n",
      "\n",
      "Stations missing from pressure:\n",
      "MUNCHENB\n"
     ]
    }
   ],
   "source": [
    "observation_types = ['cloud_cover', 'humidity', 'pressure']\n",
    "\n",
    "missing_stations_by_observation = {}\n",
    "\n",
    "for obs in observation_types:\n",
    "    # Select columns related to the current observation type\n",
    "    columns = [col for col in unscaled.columns if col.endswith(obs)]\n",
    "    \n",
    "    # Extract station names by removing the observation type from the column names\n",
    "    station_names = set([col.replace(f'_{obs}', '') for col in columns])\n",
    "    \n",
    "    # Identify stations that are in all_stations but missing from the current observation type\n",
    "    missing_stations = all_stations - station_names\n",
    "    \n",
    "    # Store the missing station names in the dictionary\n",
    "    missing_stations_by_observation[obs] = missing_stations\n",
    "\n",
    "# Print the missing station names for each observation type\n",
    "for obs, missing_stations in missing_stations_by_observation.items():\n",
    "    print(f\"\\nStations missing from {obs}:\")\n",
    "    if missing_stations:\n",
    "        for station in missing_stations:\n",
    "            print(station)\n",
    "    else:\n",
    "        print(\"None\")"
   ]
  },
  {
   "cell_type": "code",
   "execution_count": 29,
   "id": "bf45aa1e-4a9b-4ce2-9a2f-d75d479596b4",
   "metadata": {},
   "outputs": [
    {
     "data": {
      "text/plain": [
       "55"
      ]
     },
     "execution_count": 29,
     "metadata": {},
     "output_type": "execute_result"
    }
   ],
   "source": [
    "# Get the position of HEATHROW_temp_max to see where we need to position the new KASSEL_cloud_cover  (+1 next to it)\n",
    "\n",
    "unscaled.columns.get_loc('HEATHROW_temp_max')"
   ]
  },
  {
   "cell_type": "code",
   "execution_count": 31,
   "id": "6c71dcfb-01fa-487c-b86b-09fbdf0155c5",
   "metadata": {},
   "outputs": [
    {
     "data": {
      "text/plain": [
       "117"
      ]
     },
     "execution_count": 31,
     "metadata": {},
     "output_type": "execute_result"
    }
   ],
   "source": [
    "unscaled.columns.get_loc('STOCKHOLM_cloud_cover') # +2"
   ]
  },
  {
   "cell_type": "code",
   "execution_count": 33,
   "id": "65743aa9-94e5-4319-ba33-e1bfcb1c6576",
   "metadata": {},
   "outputs": [
    {
     "data": {
      "text/plain": [
       "92"
      ]
     },
     "execution_count": 33,
     "metadata": {},
     "output_type": "execute_result"
    }
   ],
   "source": [
    "unscaled.columns.get_loc('MUNCHENB_humidity') # +2"
   ]
  },
  {
   "cell_type": "code",
   "execution_count": 35,
   "id": "beea1a76-23ee-4c56-9b75-c3639cf833d5",
   "metadata": {},
   "outputs": [],
   "source": [
    "# Insert new columns into \"unscaled\" at specific positions.\n",
    "# The data for these new columns is copied from other existing columns:\n",
    "# Kassel_cloud_cover with Dusseldorf_cloud_cover\n",
    "# Stockholm_humidity with Oslo_humidity\n",
    "# Munchenb_pressure with Basel_pressure\n",
    "\n",
    "unscaled.insert(56,'KASSEL_cloud_cover', unscaled['DUSSELDORF_cloud_cover'])\n",
    "unscaled.insert(119, 'STOCKHOLM_humidity', unscaled['OSLO_humidity'])\n",
    "unscaled.insert(94,'MUNCHENB_pressure',unscaled['BASEL_pressure'])"
   ]
  },
  {
   "cell_type": "code",
   "execution_count": 37,
   "id": "f10d37ee-7dce-470b-a30a-d4891881f1ad",
   "metadata": {},
   "outputs": [
    {
     "data": {
      "text/plain": [
       "['DATE',\n",
       " 'MONTH',\n",
       " 'BASEL_cloud_cover',\n",
       " 'BASEL_humidity',\n",
       " 'BASEL_pressure',\n",
       " 'BASEL_global_radiation',\n",
       " 'BASEL_precipitation',\n",
       " 'BASEL_sunshine',\n",
       " 'BASEL_temp_mean',\n",
       " 'BASEL_temp_min',\n",
       " 'BASEL_temp_max',\n",
       " 'BELGRADE_cloud_cover',\n",
       " 'BELGRADE_humidity',\n",
       " 'BELGRADE_pressure',\n",
       " 'BELGRADE_global_radiation',\n",
       " 'BELGRADE_precipitation',\n",
       " 'BELGRADE_sunshine',\n",
       " 'BELGRADE_temp_mean',\n",
       " 'BELGRADE_temp_min',\n",
       " 'BELGRADE_temp_max',\n",
       " 'BUDAPEST_cloud_cover',\n",
       " 'BUDAPEST_humidity',\n",
       " 'BUDAPEST_pressure',\n",
       " 'BUDAPEST_global_radiation',\n",
       " 'BUDAPEST_precipitation',\n",
       " 'BUDAPEST_sunshine',\n",
       " 'BUDAPEST_temp_mean',\n",
       " 'BUDAPEST_temp_min',\n",
       " 'BUDAPEST_temp_max',\n",
       " 'DEBILT_cloud_cover',\n",
       " 'DEBILT_humidity',\n",
       " 'DEBILT_pressure',\n",
       " 'DEBILT_global_radiation',\n",
       " 'DEBILT_precipitation',\n",
       " 'DEBILT_sunshine',\n",
       " 'DEBILT_temp_mean',\n",
       " 'DEBILT_temp_min',\n",
       " 'DEBILT_temp_max',\n",
       " 'DUSSELDORF_cloud_cover',\n",
       " 'DUSSELDORF_humidity',\n",
       " 'DUSSELDORF_pressure',\n",
       " 'DUSSELDORF_global_radiation',\n",
       " 'DUSSELDORF_precipitation',\n",
       " 'DUSSELDORF_sunshine',\n",
       " 'DUSSELDORF_temp_mean',\n",
       " 'DUSSELDORF_temp_min',\n",
       " 'DUSSELDORF_temp_max',\n",
       " 'HEATHROW_cloud_cover',\n",
       " 'HEATHROW_humidity',\n",
       " 'HEATHROW_pressure',\n",
       " 'HEATHROW_global_radiation',\n",
       " 'HEATHROW_precipitation',\n",
       " 'HEATHROW_sunshine',\n",
       " 'HEATHROW_temp_mean',\n",
       " 'HEATHROW_temp_min',\n",
       " 'HEATHROW_temp_max',\n",
       " 'KASSEL_cloud_cover',\n",
       " 'KASSEL_humidity',\n",
       " 'KASSEL_pressure',\n",
       " 'KASSEL_global_radiation',\n",
       " 'KASSEL_precipitation',\n",
       " 'KASSEL_sunshine',\n",
       " 'KASSEL_temp_mean',\n",
       " 'KASSEL_temp_min',\n",
       " 'KASSEL_temp_max',\n",
       " 'LJUBLJANA_cloud_cover',\n",
       " 'LJUBLJANA_humidity',\n",
       " 'LJUBLJANA_pressure',\n",
       " 'LJUBLJANA_global_radiation',\n",
       " 'LJUBLJANA_precipitation',\n",
       " 'LJUBLJANA_sunshine',\n",
       " 'LJUBLJANA_temp_mean',\n",
       " 'LJUBLJANA_temp_min',\n",
       " 'LJUBLJANA_temp_max',\n",
       " 'MAASTRICHT_cloud_cover',\n",
       " 'MAASTRICHT_humidity',\n",
       " 'MAASTRICHT_pressure',\n",
       " 'MAASTRICHT_global_radiation',\n",
       " 'MAASTRICHT_precipitation',\n",
       " 'MAASTRICHT_sunshine',\n",
       " 'MAASTRICHT_temp_mean',\n",
       " 'MAASTRICHT_temp_min',\n",
       " 'MAASTRICHT_temp_max',\n",
       " 'MADRID_cloud_cover',\n",
       " 'MADRID_humidity',\n",
       " 'MADRID_pressure',\n",
       " 'MADRID_global_radiation',\n",
       " 'MADRID_precipitation',\n",
       " 'MADRID_sunshine',\n",
       " 'MADRID_temp_mean',\n",
       " 'MADRID_temp_min',\n",
       " 'MADRID_temp_max',\n",
       " 'MUNCHENB_cloud_cover',\n",
       " 'MUNCHENB_humidity',\n",
       " 'MUNCHENB_pressure',\n",
       " 'MUNCHENB_global_radiation',\n",
       " 'MUNCHENB_precipitation',\n",
       " 'MUNCHENB_sunshine',\n",
       " 'MUNCHENB_temp_mean',\n",
       " 'MUNCHENB_temp_min',\n",
       " 'MUNCHENB_temp_max',\n",
       " 'OSLO_cloud_cover',\n",
       " 'OSLO_humidity',\n",
       " 'OSLO_pressure',\n",
       " 'OSLO_global_radiation',\n",
       " 'OSLO_precipitation',\n",
       " 'OSLO_sunshine',\n",
       " 'OSLO_temp_mean',\n",
       " 'OSLO_temp_min',\n",
       " 'OSLO_temp_max',\n",
       " 'SONNBLICK_cloud_cover',\n",
       " 'SONNBLICK_humidity',\n",
       " 'SONNBLICK_pressure',\n",
       " 'SONNBLICK_global_radiation',\n",
       " 'SONNBLICK_precipitation',\n",
       " 'SONNBLICK_sunshine',\n",
       " 'SONNBLICK_temp_mean',\n",
       " 'SONNBLICK_temp_min',\n",
       " 'SONNBLICK_temp_max',\n",
       " 'STOCKHOLM_cloud_cover',\n",
       " 'STOCKHOLM_humidity',\n",
       " 'STOCKHOLM_pressure',\n",
       " 'STOCKHOLM_global_radiation',\n",
       " 'STOCKHOLM_precipitation',\n",
       " 'STOCKHOLM_sunshine',\n",
       " 'STOCKHOLM_temp_mean',\n",
       " 'STOCKHOLM_temp_min',\n",
       " 'STOCKHOLM_temp_max',\n",
       " 'VALENTIA_cloud_cover',\n",
       " 'VALENTIA_humidity',\n",
       " 'VALENTIA_pressure',\n",
       " 'VALENTIA_global_radiation',\n",
       " 'VALENTIA_precipitation',\n",
       " 'VALENTIA_sunshine',\n",
       " 'VALENTIA_temp_mean',\n",
       " 'VALENTIA_temp_min',\n",
       " 'VALENTIA_temp_max']"
      ]
     },
     "execution_count": 37,
     "metadata": {},
     "output_type": "execute_result"
    }
   ],
   "source": [
    "unscaled.columns.tolist()"
   ]
  },
  {
   "cell_type": "code",
   "execution_count": 39,
   "id": "48923328-804a-4213-b722-be0a0a1b6f3e",
   "metadata": {},
   "outputs": [],
   "source": [
    "# Drop unnecessary columns\n",
    "\n",
    "unscaled.drop(['DATE', 'MONTH'], axis=1, inplace=True)"
   ]
  },
  {
   "cell_type": "code",
   "execution_count": 41,
   "id": "e67a1385-45a3-4d4a-bb7f-0ae1a2514da1",
   "metadata": {},
   "outputs": [
    {
     "data": {
      "text/plain": [
       "(22950, 135)"
      ]
     },
     "execution_count": 41,
     "metadata": {},
     "output_type": "execute_result"
    }
   ],
   "source": [
    "unscaled.shape # observations dataset has the correct shape"
   ]
  },
  {
   "cell_type": "code",
   "execution_count": 43,
   "id": "e67c5119-e923-49e3-967e-b8e9b3e4073d",
   "metadata": {},
   "outputs": [],
   "source": [
    "pleasant.drop(columns = 'DATE', inplace = True)"
   ]
  },
  {
   "cell_type": "code",
   "execution_count": 45,
   "id": "dd4aff31-c6a7-4361-8112-39001867ea90",
   "metadata": {},
   "outputs": [
    {
     "data": {
      "text/plain": [
       "(22950, 15)"
      ]
     },
     "execution_count": 45,
     "metadata": {},
     "output_type": "execute_result"
    }
   ],
   "source": [
    "pleasant.shape # predictions dataset has the correct shape"
   ]
  },
  {
   "cell_type": "code",
   "execution_count": 47,
   "id": "6ebdcdd2-a840-4975-bba4-04df1c40d559",
   "metadata": {},
   "outputs": [],
   "source": [
    "# Exporting cleaned unscaled dataset\n",
    "\n",
    "unscaled.to_csv(os.path.join(path, 'unscaled_cleaned_weather.csv'), index=False)"
   ]
  },
  {
   "cell_type": "code",
   "execution_count": 65,
   "id": "c689be22-a4e8-426f-b1b1-9c8933694679",
   "metadata": {},
   "outputs": [],
   "source": [
    "X = pd.read_csv(os.path.join(path, 'unscaled_cleaned_weather.csv'))"
   ]
  },
  {
   "cell_type": "code",
   "execution_count": 67,
   "id": "bd24201f-d77d-4278-9b13-635132d5bf09",
   "metadata": {},
   "outputs": [
    {
     "data": {
      "text/html": [
       "<div>\n",
       "<style scoped>\n",
       "    .dataframe tbody tr th:only-of-type {\n",
       "        vertical-align: middle;\n",
       "    }\n",
       "\n",
       "    .dataframe tbody tr th {\n",
       "        vertical-align: top;\n",
       "    }\n",
       "\n",
       "    .dataframe thead th {\n",
       "        text-align: right;\n",
       "    }\n",
       "</style>\n",
       "<table border=\"1\" class=\"dataframe\">\n",
       "  <thead>\n",
       "    <tr style=\"text-align: right;\">\n",
       "      <th></th>\n",
       "      <th>BASEL_cloud_cover</th>\n",
       "      <th>BASEL_humidity</th>\n",
       "      <th>BASEL_pressure</th>\n",
       "      <th>BASEL_global_radiation</th>\n",
       "      <th>BASEL_precipitation</th>\n",
       "      <th>BASEL_sunshine</th>\n",
       "      <th>BASEL_temp_mean</th>\n",
       "      <th>BASEL_temp_min</th>\n",
       "      <th>BASEL_temp_max</th>\n",
       "      <th>BELGRADE_cloud_cover</th>\n",
       "      <th>...</th>\n",
       "      <th>STOCKHOLM_temp_max</th>\n",
       "      <th>VALENTIA_cloud_cover</th>\n",
       "      <th>VALENTIA_humidity</th>\n",
       "      <th>VALENTIA_pressure</th>\n",
       "      <th>VALENTIA_global_radiation</th>\n",
       "      <th>VALENTIA_precipitation</th>\n",
       "      <th>VALENTIA_sunshine</th>\n",
       "      <th>VALENTIA_temp_mean</th>\n",
       "      <th>VALENTIA_temp_min</th>\n",
       "      <th>VALENTIA_temp_max</th>\n",
       "    </tr>\n",
       "  </thead>\n",
       "  <tbody>\n",
       "    <tr>\n",
       "      <th>0</th>\n",
       "      <td>7</td>\n",
       "      <td>0.85</td>\n",
       "      <td>1.018</td>\n",
       "      <td>0.32</td>\n",
       "      <td>0.09</td>\n",
       "      <td>0.7</td>\n",
       "      <td>6.5</td>\n",
       "      <td>0.8</td>\n",
       "      <td>10.9</td>\n",
       "      <td>1</td>\n",
       "      <td>...</td>\n",
       "      <td>4.9</td>\n",
       "      <td>5</td>\n",
       "      <td>0.88</td>\n",
       "      <td>1.0003</td>\n",
       "      <td>0.45</td>\n",
       "      <td>0.34</td>\n",
       "      <td>4.7</td>\n",
       "      <td>8.5</td>\n",
       "      <td>6.0</td>\n",
       "      <td>10.9</td>\n",
       "    </tr>\n",
       "    <tr>\n",
       "      <th>1</th>\n",
       "      <td>6</td>\n",
       "      <td>0.84</td>\n",
       "      <td>1.018</td>\n",
       "      <td>0.36</td>\n",
       "      <td>1.05</td>\n",
       "      <td>1.1</td>\n",
       "      <td>6.1</td>\n",
       "      <td>3.3</td>\n",
       "      <td>10.1</td>\n",
       "      <td>6</td>\n",
       "      <td>...</td>\n",
       "      <td>5.0</td>\n",
       "      <td>7</td>\n",
       "      <td>0.91</td>\n",
       "      <td>1.0007</td>\n",
       "      <td>0.25</td>\n",
       "      <td>0.84</td>\n",
       "      <td>0.7</td>\n",
       "      <td>8.9</td>\n",
       "      <td>5.6</td>\n",
       "      <td>12.1</td>\n",
       "    </tr>\n",
       "    <tr>\n",
       "      <th>2</th>\n",
       "      <td>8</td>\n",
       "      <td>0.90</td>\n",
       "      <td>1.018</td>\n",
       "      <td>0.18</td>\n",
       "      <td>0.30</td>\n",
       "      <td>0.0</td>\n",
       "      <td>8.5</td>\n",
       "      <td>5.1</td>\n",
       "      <td>9.9</td>\n",
       "      <td>6</td>\n",
       "      <td>...</td>\n",
       "      <td>4.1</td>\n",
       "      <td>7</td>\n",
       "      <td>0.91</td>\n",
       "      <td>1.0096</td>\n",
       "      <td>0.17</td>\n",
       "      <td>0.08</td>\n",
       "      <td>0.1</td>\n",
       "      <td>10.5</td>\n",
       "      <td>8.1</td>\n",
       "      <td>12.9</td>\n",
       "    </tr>\n",
       "    <tr>\n",
       "      <th>3</th>\n",
       "      <td>3</td>\n",
       "      <td>0.92</td>\n",
       "      <td>1.018</td>\n",
       "      <td>0.58</td>\n",
       "      <td>0.00</td>\n",
       "      <td>4.1</td>\n",
       "      <td>6.3</td>\n",
       "      <td>3.8</td>\n",
       "      <td>10.6</td>\n",
       "      <td>8</td>\n",
       "      <td>...</td>\n",
       "      <td>2.3</td>\n",
       "      <td>7</td>\n",
       "      <td>0.86</td>\n",
       "      <td>1.0184</td>\n",
       "      <td>0.13</td>\n",
       "      <td>0.98</td>\n",
       "      <td>0.0</td>\n",
       "      <td>7.4</td>\n",
       "      <td>7.3</td>\n",
       "      <td>10.6</td>\n",
       "    </tr>\n",
       "    <tr>\n",
       "      <th>4</th>\n",
       "      <td>6</td>\n",
       "      <td>0.95</td>\n",
       "      <td>1.018</td>\n",
       "      <td>0.65</td>\n",
       "      <td>0.14</td>\n",
       "      <td>5.4</td>\n",
       "      <td>3.0</td>\n",
       "      <td>-0.7</td>\n",
       "      <td>6.0</td>\n",
       "      <td>8</td>\n",
       "      <td>...</td>\n",
       "      <td>4.3</td>\n",
       "      <td>3</td>\n",
       "      <td>0.80</td>\n",
       "      <td>1.0328</td>\n",
       "      <td>0.46</td>\n",
       "      <td>0.00</td>\n",
       "      <td>5.7</td>\n",
       "      <td>5.7</td>\n",
       "      <td>3.0</td>\n",
       "      <td>8.4</td>\n",
       "    </tr>\n",
       "  </tbody>\n",
       "</table>\n",
       "<p>5 rows × 135 columns</p>\n",
       "</div>"
      ],
      "text/plain": [
       "   BASEL_cloud_cover  BASEL_humidity  BASEL_pressure  BASEL_global_radiation  \\\n",
       "0                  7            0.85           1.018                    0.32   \n",
       "1                  6            0.84           1.018                    0.36   \n",
       "2                  8            0.90           1.018                    0.18   \n",
       "3                  3            0.92           1.018                    0.58   \n",
       "4                  6            0.95           1.018                    0.65   \n",
       "\n",
       "   BASEL_precipitation  BASEL_sunshine  BASEL_temp_mean  BASEL_temp_min  \\\n",
       "0                 0.09             0.7              6.5             0.8   \n",
       "1                 1.05             1.1              6.1             3.3   \n",
       "2                 0.30             0.0              8.5             5.1   \n",
       "3                 0.00             4.1              6.3             3.8   \n",
       "4                 0.14             5.4              3.0            -0.7   \n",
       "\n",
       "   BASEL_temp_max  BELGRADE_cloud_cover  ...  STOCKHOLM_temp_max  \\\n",
       "0            10.9                     1  ...                 4.9   \n",
       "1            10.1                     6  ...                 5.0   \n",
       "2             9.9                     6  ...                 4.1   \n",
       "3            10.6                     8  ...                 2.3   \n",
       "4             6.0                     8  ...                 4.3   \n",
       "\n",
       "   VALENTIA_cloud_cover  VALENTIA_humidity  VALENTIA_pressure  \\\n",
       "0                     5               0.88             1.0003   \n",
       "1                     7               0.91             1.0007   \n",
       "2                     7               0.91             1.0096   \n",
       "3                     7               0.86             1.0184   \n",
       "4                     3               0.80             1.0328   \n",
       "\n",
       "   VALENTIA_global_radiation  VALENTIA_precipitation  VALENTIA_sunshine  \\\n",
       "0                       0.45                    0.34                4.7   \n",
       "1                       0.25                    0.84                0.7   \n",
       "2                       0.17                    0.08                0.1   \n",
       "3                       0.13                    0.98                0.0   \n",
       "4                       0.46                    0.00                5.7   \n",
       "\n",
       "   VALENTIA_temp_mean  VALENTIA_temp_min  VALENTIA_temp_max  \n",
       "0                 8.5                6.0               10.9  \n",
       "1                 8.9                5.6               12.1  \n",
       "2                10.5                8.1               12.9  \n",
       "3                 7.4                7.3               10.6  \n",
       "4                 5.7                3.0                8.4  \n",
       "\n",
       "[5 rows x 135 columns]"
      ]
     },
     "execution_count": 67,
     "metadata": {},
     "output_type": "execute_result"
    }
   ],
   "source": [
    "X.head()"
   ]
  },
  {
   "cell_type": "code",
   "execution_count": 61,
   "id": "956a9fd6-7805-42e0-85dc-100d4ffc63f9",
   "metadata": {},
   "outputs": [],
   "source": [
    "y = pleasant"
   ]
  },
  {
   "cell_type": "code",
   "execution_count": 69,
   "id": "8dcc0674-bbb2-4d99-a16c-9294043e8c4f",
   "metadata": {},
   "outputs": [
    {
     "data": {
      "text/plain": [
       "(22950, 135)"
      ]
     },
     "execution_count": 69,
     "metadata": {},
     "output_type": "execute_result"
    }
   ],
   "source": [
    "X.shape"
   ]
  },
  {
   "cell_type": "code",
   "execution_count": 71,
   "id": "49bcf108-fde6-4d1a-a1c6-8db399b2c160",
   "metadata": {},
   "outputs": [],
   "source": [
    "# Turn X and y from a df to arrays\n",
    "\n",
    "X = np.array(X)\n",
    "y = np.array(y)"
   ]
  },
  {
   "cell_type": "code",
   "execution_count": 73,
   "id": "5f88b686-1a36-435b-bd2f-35cad8bef4c3",
   "metadata": {},
   "outputs": [],
   "source": [
    "X = X.reshape(-1,15,9)"
   ]
  },
  {
   "cell_type": "code",
   "execution_count": 75,
   "id": "288781e6-8b8d-41fc-94c0-9ef6e2305729",
   "metadata": {},
   "outputs": [
    {
     "data": {
      "text/plain": [
       "array([[[  7.    ,   0.85  ,   1.018 , ...,   6.5   ,   0.8   ,\n",
       "          10.9   ],\n",
       "        [  1.    ,   0.81  ,   1.0195, ...,   3.7   ,  -0.9   ,\n",
       "           7.9   ],\n",
       "        [  4.    ,   0.67  ,   1.017 , ...,   2.4   ,  -0.4   ,\n",
       "           5.1   ],\n",
       "        ...,\n",
       "        [  4.    ,   0.73  ,   1.0304, ...,  -5.9   ,  -8.5   ,\n",
       "          -3.2   ],\n",
       "        [  5.    ,   0.98  ,   1.0114, ...,   4.2   ,   2.2   ,\n",
       "           4.9   ],\n",
       "        [  5.    ,   0.88  ,   1.0003, ...,   8.5   ,   6.    ,\n",
       "          10.9   ]],\n",
       "\n",
       "       [[  6.    ,   0.84  ,   1.018 , ...,   6.1   ,   3.3   ,\n",
       "          10.1   ],\n",
       "        [  6.    ,   0.84  ,   1.0172, ...,   2.9   ,   2.2   ,\n",
       "           4.4   ],\n",
       "        [  4.    ,   0.67  ,   1.017 , ...,   2.3   ,   1.4   ,\n",
       "           3.1   ],\n",
       "        ...,\n",
       "        [  6.    ,   0.97  ,   1.0292, ...,  -9.5   , -10.5   ,\n",
       "          -8.5   ],\n",
       "        [  5.    ,   0.62  ,   1.0114, ...,   4.    ,   3.    ,\n",
       "           5.    ],\n",
       "        [  7.    ,   0.91  ,   1.0007, ...,   8.9   ,   5.6   ,\n",
       "          12.1   ]],\n",
       "\n",
       "       [[  8.    ,   0.9   ,   1.018 , ...,   8.5   ,   5.1   ,\n",
       "           9.9   ],\n",
       "        [  6.    ,   0.77  ,   1.0179, ...,   3.1   ,  -0.5   ,\n",
       "           6.4   ],\n",
       "        [  4.    ,   0.67  ,   1.017 , ...,   2.7   ,   1.7   ,\n",
       "           5.3   ],\n",
       "        ...,\n",
       "        [  8.    ,   0.93  ,   1.032 , ...,  -9.5   , -10.    ,\n",
       "          -8.9   ],\n",
       "        [  5.    ,   0.69  ,   1.0114, ...,   2.4   ,   1.3   ,\n",
       "           4.1   ],\n",
       "        [  7.    ,   0.91  ,   1.0096, ...,  10.5   ,   8.1   ,\n",
       "          12.9   ]],\n",
       "\n",
       "       ...,\n",
       "\n",
       "       [[  4.    ,   0.76  ,   1.0227, ...,  16.7   ,  13.1   ,\n",
       "          22.4   ],\n",
       "        [  2.    ,   0.68  ,   1.0278, ...,  13.4   ,   8.6   ,\n",
       "          18.2   ],\n",
       "        [  4.    ,   0.67  ,   1.017 , ...,  11.7   ,   7.9   ,\n",
       "          16.2   ],\n",
       "        ...,\n",
       "        [  3.    ,   0.84  ,   1.0263, ...,   3.3   ,   2.1   ,\n",
       "           4.5   ],\n",
       "        [  5.    ,   0.85  ,   1.0059, ...,  13.1   ,  12.1   ,\n",
       "          14.4   ],\n",
       "        [  5.    ,   0.82  ,   1.0142, ...,  10.7   ,   7.9   ,\n",
       "          13.5   ]],\n",
       "\n",
       "       [[  5.    ,   0.8   ,   1.0212, ...,  15.4   ,  11.6   ,\n",
       "          21.1   ],\n",
       "        [  1.    ,   0.68  ,   1.0238, ...,  15.    ,   9.1   ,\n",
       "          20.9   ],\n",
       "        [  4.    ,   0.67  ,   1.017 , ...,  11.7   ,   7.9   ,\n",
       "          16.2   ],\n",
       "        ...,\n",
       "        [  3.    ,   0.84  ,   1.0263, ...,   3.4   ,   2.7   ,\n",
       "           4.1   ],\n",
       "        [  5.    ,   0.94  ,   1.016 , ...,   7.5   ,   5.1   ,\n",
       "          12.4   ],\n",
       "        [  5.    ,   0.82  ,   1.0142, ...,  10.7   ,   7.9   ,\n",
       "          13.5   ]],\n",
       "\n",
       "       [[  5.    ,   0.84  ,   1.0193, ...,  13.5   ,   9.9   ,\n",
       "          19.2   ],\n",
       "        [  4.    ,   0.68  ,   1.0235, ...,  14.4   ,  10.4   ,\n",
       "          18.4   ],\n",
       "        [  4.    ,   0.67  ,   1.017 , ...,  11.7   ,   7.9   ,\n",
       "          16.2   ],\n",
       "        ...,\n",
       "        [  4.    ,   0.84  ,   1.0263, ...,   1.7   ,   0.7   ,\n",
       "           2.7   ],\n",
       "        [  5.    ,   0.97  ,   1.0164, ...,   9.7   ,   5.    ,\n",
       "          12.6   ],\n",
       "        [  5.    ,   0.82  ,   1.0142, ...,  10.7   ,   7.9   ,\n",
       "          13.5   ]]])"
      ]
     },
     "execution_count": 75,
     "metadata": {},
     "output_type": "execute_result"
    }
   ],
   "source": [
    "# Verify shape\n",
    "\n",
    "X"
   ]
  },
  {
   "cell_type": "code",
   "execution_count": 77,
   "id": "32939a8e-f008-4d8c-b43d-c77a4a13984f",
   "metadata": {},
   "outputs": [],
   "source": [
    "# Splitting data into train and test sets\n",
    "\n",
    "X_train, X_test, y_train, y_test = train_test_split(X,y,random_state = 42)"
   ]
  },
  {
   "cell_type": "code",
   "execution_count": 79,
   "id": "e2cf2872-ca77-4658-a9f9-819f51963441",
   "metadata": {},
   "outputs": [
    {
     "name": "stdout",
     "output_type": "stream",
     "text": [
      "(17212, 15, 9) (17212, 15)\n",
      "(5738, 15, 9) (5738, 15)\n"
     ]
    }
   ],
   "source": [
    "print(X_train.shape, y_train.shape)\n",
    "print(X_test.shape, y_test.shape)"
   ]
  },
  {
   "cell_type": "code",
   "execution_count": 271,
   "id": "649caeb0-1a53-4ee8-820d-de69efa850e2",
   "metadata": {},
   "outputs": [],
   "source": [
    "# Creating Keras model\n",
    "\n",
    "epochs = 30\n",
    "batch_size = 64\n",
    "n_hidden = 256\n",
    "\n",
    "timesteps = len(X_train[0])\n",
    "input_dim = len(X_train[0][0])\n",
    "n_classes = len(y_train[0])\n",
    "\n",
    "model = Sequential()\n",
    "model.add(Conv1D(n_hidden, kernel_size=2, activation='relu', input_shape=(timesteps, input_dim)))\n",
    "model.add(Dense(16, activation='relu'))\n",
    "model.add(MaxPooling1D())\n",
    "model.add(Flatten())\n",
    "model.add(Dense(n_classes, activation='softmax')) # Options: sigmoid, tanh, softmax, relu"
   ]
  },
  {
   "cell_type": "code",
   "execution_count": 273,
   "id": "4a1813cb-f76a-4413-afc8-0e615c28ddf7",
   "metadata": {},
   "outputs": [
    {
     "data": {
      "text/html": [
       "<pre style=\"white-space:pre;overflow-x:auto;line-height:normal;font-family:Menlo,'DejaVu Sans Mono',consolas,'Courier New',monospace\"><span style=\"font-weight: bold\">Model: \"sequential_15\"</span>\n",
       "</pre>\n"
      ],
      "text/plain": [
       "\u001b[1mModel: \"sequential_15\"\u001b[0m\n"
      ]
     },
     "metadata": {},
     "output_type": "display_data"
    },
    {
     "data": {
      "text/html": [
       "<pre style=\"white-space:pre;overflow-x:auto;line-height:normal;font-family:Menlo,'DejaVu Sans Mono',consolas,'Courier New',monospace\">┏━━━━━━━━━━━━━━━━━━━━━━━━━━━━━━━━━┳━━━━━━━━━━━━━━━━━━━━━━━━┳━━━━━━━━━━━━━━━┓\n",
       "┃<span style=\"font-weight: bold\"> Layer (type)                    </span>┃<span style=\"font-weight: bold\"> Output Shape           </span>┃<span style=\"font-weight: bold\">       Param # </span>┃\n",
       "┡━━━━━━━━━━━━━━━━━━━━━━━━━━━━━━━━━╇━━━━━━━━━━━━━━━━━━━━━━━━╇━━━━━━━━━━━━━━━┩\n",
       "│ conv1d_15 (<span style=\"color: #0087ff; text-decoration-color: #0087ff\">Conv1D</span>)              │ (<span style=\"color: #00d7ff; text-decoration-color: #00d7ff\">None</span>, <span style=\"color: #00af00; text-decoration-color: #00af00\">14</span>, <span style=\"color: #00af00; text-decoration-color: #00af00\">256</span>)        │         <span style=\"color: #00af00; text-decoration-color: #00af00\">4,864</span> │\n",
       "├─────────────────────────────────┼────────────────────────┼───────────────┤\n",
       "│ dense_30 (<span style=\"color: #0087ff; text-decoration-color: #0087ff\">Dense</span>)                │ (<span style=\"color: #00d7ff; text-decoration-color: #00d7ff\">None</span>, <span style=\"color: #00af00; text-decoration-color: #00af00\">14</span>, <span style=\"color: #00af00; text-decoration-color: #00af00\">16</span>)         │         <span style=\"color: #00af00; text-decoration-color: #00af00\">4,112</span> │\n",
       "├─────────────────────────────────┼────────────────────────┼───────────────┤\n",
       "│ max_pooling1d_15 (<span style=\"color: #0087ff; text-decoration-color: #0087ff\">MaxPooling1D</span>) │ (<span style=\"color: #00d7ff; text-decoration-color: #00d7ff\">None</span>, <span style=\"color: #00af00; text-decoration-color: #00af00\">7</span>, <span style=\"color: #00af00; text-decoration-color: #00af00\">16</span>)          │             <span style=\"color: #00af00; text-decoration-color: #00af00\">0</span> │\n",
       "├─────────────────────────────────┼────────────────────────┼───────────────┤\n",
       "│ flatten_15 (<span style=\"color: #0087ff; text-decoration-color: #0087ff\">Flatten</span>)            │ (<span style=\"color: #00d7ff; text-decoration-color: #00d7ff\">None</span>, <span style=\"color: #00af00; text-decoration-color: #00af00\">112</span>)            │             <span style=\"color: #00af00; text-decoration-color: #00af00\">0</span> │\n",
       "├─────────────────────────────────┼────────────────────────┼───────────────┤\n",
       "│ dense_31 (<span style=\"color: #0087ff; text-decoration-color: #0087ff\">Dense</span>)                │ (<span style=\"color: #00d7ff; text-decoration-color: #00d7ff\">None</span>, <span style=\"color: #00af00; text-decoration-color: #00af00\">15</span>)             │         <span style=\"color: #00af00; text-decoration-color: #00af00\">1,695</span> │\n",
       "└─────────────────────────────────┴────────────────────────┴───────────────┘\n",
       "</pre>\n"
      ],
      "text/plain": [
       "┏━━━━━━━━━━━━━━━━━━━━━━━━━━━━━━━━━┳━━━━━━━━━━━━━━━━━━━━━━━━┳━━━━━━━━━━━━━━━┓\n",
       "┃\u001b[1m \u001b[0m\u001b[1mLayer (type)                   \u001b[0m\u001b[1m \u001b[0m┃\u001b[1m \u001b[0m\u001b[1mOutput Shape          \u001b[0m\u001b[1m \u001b[0m┃\u001b[1m \u001b[0m\u001b[1m      Param #\u001b[0m\u001b[1m \u001b[0m┃\n",
       "┡━━━━━━━━━━━━━━━━━━━━━━━━━━━━━━━━━╇━━━━━━━━━━━━━━━━━━━━━━━━╇━━━━━━━━━━━━━━━┩\n",
       "│ conv1d_15 (\u001b[38;5;33mConv1D\u001b[0m)              │ (\u001b[38;5;45mNone\u001b[0m, \u001b[38;5;34m14\u001b[0m, \u001b[38;5;34m256\u001b[0m)        │         \u001b[38;5;34m4,864\u001b[0m │\n",
       "├─────────────────────────────────┼────────────────────────┼───────────────┤\n",
       "│ dense_30 (\u001b[38;5;33mDense\u001b[0m)                │ (\u001b[38;5;45mNone\u001b[0m, \u001b[38;5;34m14\u001b[0m, \u001b[38;5;34m16\u001b[0m)         │         \u001b[38;5;34m4,112\u001b[0m │\n",
       "├─────────────────────────────────┼────────────────────────┼───────────────┤\n",
       "│ max_pooling1d_15 (\u001b[38;5;33mMaxPooling1D\u001b[0m) │ (\u001b[38;5;45mNone\u001b[0m, \u001b[38;5;34m7\u001b[0m, \u001b[38;5;34m16\u001b[0m)          │             \u001b[38;5;34m0\u001b[0m │\n",
       "├─────────────────────────────────┼────────────────────────┼───────────────┤\n",
       "│ flatten_15 (\u001b[38;5;33mFlatten\u001b[0m)            │ (\u001b[38;5;45mNone\u001b[0m, \u001b[38;5;34m112\u001b[0m)            │             \u001b[38;5;34m0\u001b[0m │\n",
       "├─────────────────────────────────┼────────────────────────┼───────────────┤\n",
       "│ dense_31 (\u001b[38;5;33mDense\u001b[0m)                │ (\u001b[38;5;45mNone\u001b[0m, \u001b[38;5;34m15\u001b[0m)             │         \u001b[38;5;34m1,695\u001b[0m │\n",
       "└─────────────────────────────────┴────────────────────────┴───────────────┘\n"
      ]
     },
     "metadata": {},
     "output_type": "display_data"
    },
    {
     "data": {
      "text/html": [
       "<pre style=\"white-space:pre;overflow-x:auto;line-height:normal;font-family:Menlo,'DejaVu Sans Mono',consolas,'Courier New',monospace\"><span style=\"font-weight: bold\"> Total params: </span><span style=\"color: #00af00; text-decoration-color: #00af00\">10,671</span> (41.68 KB)\n",
       "</pre>\n"
      ],
      "text/plain": [
       "\u001b[1m Total params: \u001b[0m\u001b[38;5;34m10,671\u001b[0m (41.68 KB)\n"
      ]
     },
     "metadata": {},
     "output_type": "display_data"
    },
    {
     "data": {
      "text/html": [
       "<pre style=\"white-space:pre;overflow-x:auto;line-height:normal;font-family:Menlo,'DejaVu Sans Mono',consolas,'Courier New',monospace\"><span style=\"font-weight: bold\"> Trainable params: </span><span style=\"color: #00af00; text-decoration-color: #00af00\">10,671</span> (41.68 KB)\n",
       "</pre>\n"
      ],
      "text/plain": [
       "\u001b[1m Trainable params: \u001b[0m\u001b[38;5;34m10,671\u001b[0m (41.68 KB)\n"
      ]
     },
     "metadata": {},
     "output_type": "display_data"
    },
    {
     "data": {
      "text/html": [
       "<pre style=\"white-space:pre;overflow-x:auto;line-height:normal;font-family:Menlo,'DejaVu Sans Mono',consolas,'Courier New',monospace\"><span style=\"font-weight: bold\"> Non-trainable params: </span><span style=\"color: #00af00; text-decoration-color: #00af00\">0</span> (0.00 B)\n",
       "</pre>\n"
      ],
      "text/plain": [
       "\u001b[1m Non-trainable params: \u001b[0m\u001b[38;5;34m0\u001b[0m (0.00 B)\n"
      ]
     },
     "metadata": {},
     "output_type": "display_data"
    }
   ],
   "source": [
    "model.summary()"
   ]
  },
  {
   "cell_type": "code",
   "execution_count": 275,
   "id": "dbeaadc5-4e56-4fe9-ab99-81fd24c77490",
   "metadata": {},
   "outputs": [],
   "source": [
    "# Compiling model\n",
    "\n",
    "model.compile(loss='categorical_crossentropy', optimizer='adam', metrics=['accuracy'])"
   ]
  },
  {
   "cell_type": "code",
   "execution_count": 277,
   "id": "2504224d-ebd1-434c-8b39-95fc4347a01b",
   "metadata": {},
   "outputs": [
    {
     "name": "stdout",
     "output_type": "stream",
     "text": [
      "Epoch 1/30\n",
      "269/269 - 4s - 15ms/step - accuracy: 0.0888 - loss: 754.1068\n",
      "Epoch 2/30\n",
      "269/269 - 1s - 5ms/step - accuracy: 0.0855 - loss: 6313.7739\n",
      "Epoch 3/30\n",
      "269/269 - 1s - 5ms/step - accuracy: 0.0895 - loss: 20792.1328\n",
      "Epoch 4/30\n",
      "269/269 - 1s - 5ms/step - accuracy: 0.0917 - loss: 46487.9023\n",
      "Epoch 5/30\n",
      "269/269 - 1s - 5ms/step - accuracy: 0.0979 - loss: 81084.9766\n",
      "Epoch 6/30\n",
      "269/269 - 1s - 5ms/step - accuracy: 0.1002 - loss: 139367.4062\n",
      "Epoch 7/30\n",
      "269/269 - 1s - 4ms/step - accuracy: 0.1045 - loss: 202714.9844\n",
      "Epoch 8/30\n",
      "269/269 - 1s - 4ms/step - accuracy: 0.1036 - loss: 279882.9375\n",
      "Epoch 9/30\n",
      "269/269 - 1s - 4ms/step - accuracy: 0.1075 - loss: 368356.8750\n",
      "Epoch 10/30\n",
      "269/269 - 1s - 4ms/step - accuracy: 0.1054 - loss: 478908.6562\n",
      "Epoch 11/30\n",
      "269/269 - 1s - 5ms/step - accuracy: 0.1093 - loss: 595151.1250\n",
      "Epoch 12/30\n",
      "269/269 - 1s - 4ms/step - accuracy: 0.1127 - loss: 736932.1250\n",
      "Epoch 13/30\n",
      "269/269 - 1s - 4ms/step - accuracy: 0.1116 - loss: 891877.3750\n",
      "Epoch 14/30\n",
      "269/269 - 1s - 5ms/step - accuracy: 0.1121 - loss: 1069347.5000\n",
      "Epoch 15/30\n",
      "269/269 - 1s - 5ms/step - accuracy: 0.1106 - loss: 1274121.3750\n",
      "Epoch 16/30\n",
      "269/269 - 1s - 5ms/step - accuracy: 0.1135 - loss: 1463892.6250\n",
      "Epoch 17/30\n",
      "269/269 - 2s - 6ms/step - accuracy: 0.1120 - loss: 1713612.8750\n",
      "Epoch 18/30\n",
      "269/269 - 1s - 6ms/step - accuracy: 0.1132 - loss: 1958599.2500\n",
      "Epoch 19/30\n",
      "269/269 - 1s - 5ms/step - accuracy: 0.1146 - loss: 2221357.7500\n",
      "Epoch 20/30\n",
      "269/269 - 1s - 5ms/step - accuracy: 0.1136 - loss: 2480108.5000\n",
      "Epoch 21/30\n",
      "269/269 - 1s - 5ms/step - accuracy: 0.1130 - loss: 2812630.7500\n",
      "Epoch 22/30\n",
      "269/269 - 1s - 5ms/step - accuracy: 0.1194 - loss: 3114815.7500\n",
      "Epoch 23/30\n",
      "269/269 - 1s - 5ms/step - accuracy: 0.1174 - loss: 3487021.2500\n",
      "Epoch 24/30\n",
      "269/269 - 1s - 5ms/step - accuracy: 0.1161 - loss: 3856428.0000\n",
      "Epoch 25/30\n",
      "269/269 - 1s - 5ms/step - accuracy: 0.1150 - loss: 4243590.5000\n",
      "Epoch 26/30\n",
      "269/269 - 1s - 6ms/step - accuracy: 0.1162 - loss: 4641747.5000\n",
      "Epoch 27/30\n",
      "269/269 - 1s - 5ms/step - accuracy: 0.1165 - loss: 5029681.0000\n",
      "Epoch 28/30\n",
      "269/269 - 1s - 5ms/step - accuracy: 0.1145 - loss: 5523731.0000\n",
      "Epoch 29/30\n",
      "269/269 - 2s - 9ms/step - accuracy: 0.1171 - loss: 5988684.0000\n",
      "Epoch 30/30\n",
      "269/269 - 1s - 5ms/step - accuracy: 0.1173 - loss: 6473945.5000\n"
     ]
    },
    {
     "data": {
      "text/plain": [
       "<keras.src.callbacks.history.History at 0x2076216f980>"
      ]
     },
     "execution_count": 277,
     "metadata": {},
     "output_type": "execute_result"
    }
   ],
   "source": [
    "# Running\n",
    "\n",
    "model.fit(X_train, y_train, batch_size=batch_size, epochs=epochs, verbose=2)"
   ]
  },
  {
   "cell_type": "code",
   "execution_count": 279,
   "id": "cb112f4a-3a73-4175-839b-2d22e1bee4fe",
   "metadata": {},
   "outputs": [],
   "source": [
    "# Creating confusion matrix\n",
    "# Defining station names\n",
    "\n",
    "\n",
    "stations = {\n",
    "0: 'BASEL',\n",
    "1: 'BELGRADE',\n",
    "2: 'BUDAPEST',\n",
    "3: 'DEBILT',\n",
    "4: 'DUSSELDORF',\n",
    "5: 'HEATHROW',\n",
    "6: 'KASSEL',\n",
    "7: 'LJUBLJANA',\n",
    "8: 'MAASTRICHT',\n",
    "9: 'MADRID',\n",
    "10: 'MUNCHENB',\n",
    "11: 'OSLO',\n",
    "12: 'SONNBLICK',\n",
    "13: 'STOCKHOLM',\n",
    "14: 'VALENTIA'\n",
    "\n",
    "}"
   ]
  },
  {
   "cell_type": "code",
   "execution_count": 281,
   "id": "13dcc948-47a8-40a9-9c82-d408ed0912a9",
   "metadata": {},
   "outputs": [],
   "source": [
    "def confusion_matrix(y_true, y_pred):\n",
    "    y_true = pd.Series([stations[y] for y in np.argmax(y_true, axis=1)])\n",
    "    y_pred = pd.Series([stations[y] for y in np.argmax(y_pred, axis=1)])\n",
    "\n",
    "    return pd.crosstab(y_true, y_pred, rownames=['True'], colnames=['Pred'])"
   ]
  },
  {
   "cell_type": "code",
   "execution_count": 283,
   "id": "177382ba-4f03-4595-9753-0ea9a18950f9",
   "metadata": {},
   "outputs": [
    {
     "name": "stdout",
     "output_type": "stream",
     "text": [
      "\u001b[1m180/180\u001b[0m \u001b[32m━━━━━━━━━━━━━━━━━━━━\u001b[0m\u001b[37m\u001b[0m \u001b[1m1s\u001b[0m 3ms/step\n",
      "Pred        BASEL  BELGRADE  BUDAPEST  DEBILT  DUSSELDORF  HEATHROW  KASSEL  \\\n",
      "True                                                                          \n",
      "BASEL         186       938       250     353          77       155      70   \n",
      "BELGRADE       12       404        79     102          23         5       5   \n",
      "BUDAPEST        9        60        22      18           7         1       0   \n",
      "DEBILT          3        19        10       6           4         1       0   \n",
      "DUSSELDORF      2         6         0       4           0         1       0   \n",
      "HEATHROW        7        10         7       3           7         8       0   \n",
      "KASSEL          0         1         1       2           1         0       0   \n",
      "LJUBLJANA       4        13         1       5           0         2       0   \n",
      "MAASTRICHT      0         6         0       0           0         0       0   \n",
      "MADRID         22        89        41      29          15        17       4   \n",
      "MUNCHENB        0         5         0       0           0         0       0   \n",
      "OSLO            0         1         0       0           0         0       0   \n",
      "STOCKHOLM       0         1         1       0           0         0       0   \n",
      "VALENTIA        0         0         0       1           0         0       0   \n",
      "\n",
      "Pred        LJUBLJANA  MAASTRICHT  MADRID  MUNCHENB  OSLO  SONNBLICK  \\\n",
      "True                                                                   \n",
      "BASEL             202         138     426       486   116         13   \n",
      "BELGRADE           83           4      96       181    17          0   \n",
      "BUDAPEST            7           3      19        31     9          0   \n",
      "DEBILT              4           1       3        20     3          0   \n",
      "DUSSELDORF          1           1       2         6     0          0   \n",
      "HEATHROW            2           4      11        12     3          0   \n",
      "KASSEL              0           0       2         2     0          0   \n",
      "LJUBLJANA           2           0      26         4     0          0   \n",
      "MAASTRICHT          1           0       0         2     0          0   \n",
      "MADRID             12          15     131        39    14          0   \n",
      "MUNCHENB            0           0       0         1     0          0   \n",
      "OSLO                0           0       1         1     0          0   \n",
      "STOCKHOLM           0           0       0         0     0          0   \n",
      "VALENTIA            0           0       0         0     0          0   \n",
      "\n",
      "Pred        STOCKHOLM  VALENTIA  \n",
      "True                             \n",
      "BASEL             231        41  \n",
      "BELGRADE           81         0  \n",
      "BUDAPEST           28         0  \n",
      "DEBILT              8         0  \n",
      "DUSSELDORF          6         0  \n",
      "HEATHROW            8         0  \n",
      "KASSEL              2         0  \n",
      "LJUBLJANA           4         0  \n",
      "MAASTRICHT          0         0  \n",
      "MADRID             30         0  \n",
      "MUNCHENB            2         0  \n",
      "OSLO                2         0  \n",
      "STOCKHOLM           2         0  \n",
      "VALENTIA            0         0  \n"
     ]
    }
   ],
   "source": [
    "# Evaluate\n",
    "\n",
    "print(confusion_matrix(y_test, model.predict(X_test)))"
   ]
  }
 ],
 "metadata": {
  "kernelspec": {
   "display_name": "Python 3 (ipykernel)",
   "language": "python",
   "name": "python3"
  },
  "language_info": {
   "codemirror_mode": {
    "name": "ipython",
    "version": 3
   },
   "file_extension": ".py",
   "mimetype": "text/x-python",
   "name": "python",
   "nbconvert_exporter": "python",
   "pygments_lexer": "ipython3",
   "version": "3.12.4"
  }
 },
 "nbformat": 4,
 "nbformat_minor": 5
}
